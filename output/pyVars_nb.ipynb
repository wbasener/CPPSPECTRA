{
 "cells": [
  {
   "cell_type": "code",
   "execution_count": null,
   "metadata": {},
   "outputs": [],
   "source": [
    "import numpy as np\n",
    "import os \n",
    "import matplotlib.pyplot as plt\n",
    "import matplotlib\n",
    "matplotlib.style.use('seaborn')\n",
    "matplotlib.rcParams['figure.figsize'] = (15, 6)"
   ]
  },
  {
   "cell_type": "code",
   "execution_count": null,
   "metadata": {},
   "outputs": [],
   "source": [
    "os.chdir(os.path.dirname(\"C:\\\\Users\\\\wb8by\\\\Documents\\\\GitHub\\\\HyperspectralC-\\\\output\"))\n",
    "from pyVars import *"
   ]
  },
  {
   "cell_type": "code",
   "execution_count": null,
   "metadata": {},
   "outputs": [],
   "source": [
    "# size of the librar spectra\n",
    "print(np.shape(spectra))\n",
    "print(np.shape(spectra[0,:]))"
   ]
  },
  {
   "cell_type": "code",
   "execution_count": null,
   "metadata": {},
   "outputs": [],
   "source": [
    "# examine some library spectra as they are read\n",
    "plt.plot(wl, spectra[0,:],label=specNames[0]);\n",
    "plt.plot(wl, spectra[1,:], color=\"orange\", label=specNames[1]);\n",
    "plt.plot(wl, spectra[2,:], color=\"green\", label=specNames[2]);\n",
    "plt.plot(wl, spectra[3,:]);\n",
    "plt.plot(wl, spectra[4,:]);\n",
    "plt.plot(wl, spectra[12,:],label=specNames[12]);\n",
    "plt.legend();"
   ]
  },
  {
   "cell_type": "code",
   "execution_count": null,
   "metadata": {},
   "outputs": [],
   "source": [
    "# checking the resampling \n",
    "plt.plot(lib_tgt_fullres_wl, lib_tgt_fullres_spectra[0,:], label=\"full res\");\n",
    "plt.plot(lib_tgt_wl, lib_tgt_spectra[0,:], label=\"resamples\");\n",
    "plt.legend();"
   ]
  },
  {
   "cell_type": "code",
   "execution_count": null,
   "metadata": {},
   "outputs": [],
   "source": [
    "# Examine some of the spectra for unmixing\n",
    "plt.plot(Imwl, Lib_Spec_tgt_1, label=\"target\");\n",
    "plt.plot(Imwl, Lib_Spec_ntgt_1, label=\"nontarget\");\n",
    "plt.plot(Imwl, Endmember_1, label = \"endmember\");\n",
    "plt.legend();"
   ]
  }
 ],
 "metadata": {
  "kernelspec": {
   "display_name": "Python 3.9.13 64-bit",
   "language": "python",
   "name": "python3"
  },
  "language_info": {
   "codemirror_mode": {
    "name": "ipython",
    "version": 3
   },
   "file_extension": ".py",
   "mimetype": "text/x-python",
   "name": "python",
   "nbconvert_exporter": "python",
   "pygments_lexer": "ipython3",
   "version": "3.9.13"
  },
  "orig_nbformat": 4,
  "vscode": {
   "interpreter": {
    "hash": "11938c6bc6919ae2720b4d5011047913343b08a43b18698fd82dedb0d4417594"
   }
  }
 },
 "nbformat": 4,
 "nbformat_minor": 2
}
